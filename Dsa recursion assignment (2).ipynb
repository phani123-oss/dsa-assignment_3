{
 "cells": [
  {
   "cell_type": "markdown",
   "id": "db1e5149-4884-4674-ac8b-02959acd100a",
   "metadata": {},
   "source": [
    "1. Find the value of T(2) for the rec%rrence relation T(n) = 3T(n-1) + 12n, given that T(0)=5.\n",
    "\n",
    "solution:  we have , T(n) = 3T(n-1) + 12n           .........(1)\n",
    "                      T(0) = 5                      ..........(2)\n",
    "                      for T(2) we have to substitute n=2\n",
    "                      T(2) = 3T(1) + 24             ...........(3)\n",
    "                      now we have to find T(1) for that put n=1  in (1)\n",
    "                      T(1) = 3T(0) + 12\n",
    "                      from 2 implies T(1) = 3*5 +12\n",
    "                                          = 15+12\n",
    "                                          = 27\n",
    "                      now 3 implies T(2) = 3*27 + 24\n",
    "                                         = 81 + 24\n",
    "                                    T(2) = 105"
   ]
  },
  {
   "cell_type": "code",
   "execution_count": 1,
   "id": "77122e99-8d17-4ff2-8c44-b3548f9562d7",
   "metadata": {},
   "outputs": [
    {
     "data": {
      "text/plain": [
       "81"
      ]
     },
     "execution_count": 1,
     "metadata": {},
     "output_type": "execute_result"
    }
   ],
   "source": [
    "3*27"
   ]
  },
  {
   "cell_type": "markdown",
   "id": "9e67a45d-a07a-4a47-bc84-8b1fb79e9347",
   "metadata": {},
   "source": [
    "2. Given a rec%rrence relation, solve it %sing the s%bstit%tion method:"
   ]
  },
  {
   "cell_type": "markdown",
   "id": "c8004ec1-1761-465f-a7d2-f24b0c0956b3",
   "metadata": {},
   "source": [
    "a. T(n) = T(n-1) + c      ........(1) here T is recursive term and n-1 is a parameter\n",
    "    we have to find n-1 \n",
    "    so, T(n-1) = T((n-1)-1) + c\n",
    "               = T(n-2)+c\n",
    "    now eqn 1 implies,\n",
    "        T(n) = T(n-2) + 2c ......(2)\n",
    "    for T(n-2) sub n=n-2\n",
    "    T(n-2) = T(n-3) + c     \n",
    "    now 2 implies, T(n) = T(n-3) + 3c .....(3)\n",
    "    Assuming that this process is repeated k times we have ,\n",
    "     T(n) = T(n-k) + k.c         \n",
    "     eqn 1 is the recurrance relation for factorial case,\n",
    "     by using that condition we have ,\n",
    "     1 if n<=1(base case condition)\n",
    "     like that we have n-k = 1\n",
    "                       k = n-1 , then\n",
    "     T(n) = T(1) + (n-1).c\n",
    "          =  1 + (n-1).c      using base case we have T(1)=1\n",
    "          = nc\n",
    "          time complexity is O(n)"
   ]
  },
  {
   "cell_type": "markdown",
   "id": "508a8bbf-80fa-4a67-816b-1f5e5286913b",
   "metadata": {},
   "source": [
    "b. T(n) = 2T(n/2) + n ......(1)\n",
    "   first we have to find T(n/2) for that we substitute n = n/2\n",
    "   T(n/2) = 2T(n/4) + n/2\n",
    "   now eqn (1) implies that,\n",
    "   T(n) = 2[2T(n/4) + n/2] + n\n",
    "   T(n) = 4T(n/4) + 2n    .........(2)\n",
    "   for T(n/4)\n",
    "   T(n/4) = 2T(n/8) + n/4\n",
    "   now eqn (2) implies that, \n",
    "   T(n) = 4[2T(n/8) + n/4] + 2n\n",
    "   T(n) = 8T(n/8) + 3n    ........(3)\n",
    "   Assuming that this process is repeated k times we have ,\n",
    "   T(n) = 2^k.T(n/2^k) + k.n\n",
    "   assuming n/2^k= 1 if n=1 as a base case \n",
    "            n = 2^k\n",
    "            apply log on bothsides,\n",
    "            logn = log2^k\n",
    "            logn = klog2 [log2 base 2 value = 1]\n",
    "            k = logn with base as 2\n",
    "            then , T(n) = n.T(1) + n.logn\n",
    "                        = n + nlogn\n",
    "                        = O(nlogn)"
   ]
  },
  {
   "cell_type": "code",
   "execution_count": null,
   "id": "60f20655-cb23-4a2e-b66c-0240327a183a",
   "metadata": {},
   "outputs": [],
   "source": [
    "c. T(n) = 2T(n/2) + c\n",
    "first we have to find T(n/2) for that we substitute n = n/2\n",
    "   T(n/2) = 2T(n/4) + c\n",
    "   now eqn (1) implies that,\n",
    "   T(n) = 2[2T(n/4) + c] + c\n",
    "   T(n) = 4T(n/4) + 2c    .........(2)\n",
    "   for T(n/4)\n",
    "   T(n/4) = 2T(n/8) + c\n",
    "   now eqn (2) implies that, \n",
    "   T(n) = 4[2T(n/8) + c] + 2c\n",
    "   T(n) = 8T(n/8) + 3c     ........(3)\n",
    "   Assuming that this process is repeated k times we have ,\n",
    "   T(n) = 2^k.T(n/2^k) + k.c\n",
    "   assuming n/2^k= 1 if n=1 as a base case \n",
    "            n = 2^k\n",
    "            apply log on bothsides,\n",
    "            logn = log2^k\n",
    "            logn = klog2 [log2 base 2 value = 1]\n",
    "            k = logn with base as 2\n",
    "            then, T(n) = n.T(1) + clogn\n",
    "                  T(n) = n + clogn\n",
    "                       = O(n) here dominate term is n so we  take n as tc."
   ]
  },
  {
   "cell_type": "code",
   "execution_count": null,
   "id": "73d19fa1-afc7-44a6-8177-83f0e2aff26a",
   "metadata": {},
   "outputs": [],
   "source": [
    "d. T(n) = T(n/2) + c\n",
    "first we have to find T(n/2) for that we substitute n = n/2\n",
    "   T(n/2) = T(n/4) + c\n",
    "   now eqn (1) implies that,\n",
    "   T(n) = T(n/4) + c + c\n",
    "   T(n) = T(n/4) + 2c    .........(2)\n",
    "   for T(n/4)\n",
    "   T(n/4) = T(n/8) + c\n",
    "   now eqn (2) implies that, \n",
    "   T(n) = T(n/8) + c + 2c\n",
    "   T(n) = T(n/8) + 3c     ........(3)\n",
    "   Assuming that this process is repeated k times we have ,\n",
    "   T(n) = T(n/2^k) + k.c\n",
    "   assuming n/2^k= 1 if n=1 as a base case \n",
    "            n = 2^k\n",
    "            apply log on bothsides,\n",
    "            logn = log2^k\n",
    "            logn = klog2 [log2 base 2 value = 1]\n",
    "            k = logn with base as 2\n",
    "            then, T(n) = T(1) + clogn\n",
    "                  T(n) = a + clogn    here we take T(1)=a from power find.\n",
    "                       = O(logn)"
   ]
  },
  {
   "cell_type": "markdown",
   "id": "405316c2-b007-4745-87c5-28c46727a5e6",
   "metadata": {},
   "source": [
    "3. Given a rec%rrence relation, solve it %sing the rec%rsive tree approach:"
   ]
  },
  {
   "cell_type": "code",
   "execution_count": null,
   "id": "76b7402a-881e-4171-8145-481131cfe708",
   "metadata": {},
   "outputs": [],
   "source": [
    "a. T(n) = 2T(n-1) +1\n",
    "this can be written as ,\n",
    "   T(n) =  T(n-1) + T(n-1) + 1\n",
    "                n.......1\n",
    "             !\n",
    "        n-1 ...1     n-1....1                                  #recursion tree\n",
    "           !               !\n",
    " n-2 ..1     n-2....1     n-2....1    n-2....1 \n",
    " we work till k times,\n",
    " on L.H.S ,  we have n-k = 1  (assuming base case as 1)\n",
    "          and 1+2+4+8+....\n",
    "              2^0+2^1+2^2+...\n",
    "              this is in gp series,\n",
    "              sum of gp series = a[(r^n-1)/r-1]\n",
    "                               = 1[(2^n)-1] / [1]\n",
    "                               = 2^n - 1\n",
    "                               = O(2^n)"
   ]
  },
  {
   "cell_type": "code",
   "execution_count": null,
   "id": "ea14924b-5473-46a6-a435-f4865fc557c2",
   "metadata": {},
   "outputs": [],
   "source": [
    "b. T(n) = 2T(n/2) + n\n",
    "           n.......n\n",
    "            !\n",
    "        n/2    n/2\n",
    "         !      !\n",
    "    n/4   n/4  n/4  n/4\n",
    "  we work till k times,\n",
    " on L.H.S ,  we have n/2^k = 1  (assuming base case as 1)\n",
    "                      2^k  = n\n",
    "                      take log on bothsides,\n",
    "                      log(2^k) = logn\n",
    "                      klog2 = logn\n",
    "                      k = logn/log2\n",
    "                      k = logn to the base 2\n",
    "Above iterations repeated k+1 times so no.of recursive trees, logn + 1"
   ]
  },
  {
   "cell_type": "code",
   "execution_count": null,
   "id": "4113b304-2608-4241-bdc0-b762d5e00e1d",
   "metadata": {},
   "outputs": [],
   "source": []
  }
 ],
 "metadata": {
  "kernelspec": {
   "display_name": "Python 3 (ipykernel)",
   "language": "python",
   "name": "python3"
  },
  "language_info": {
   "codemirror_mode": {
    "name": "ipython",
    "version": 3
   },
   "file_extension": ".py",
   "mimetype": "text/x-python",
   "name": "python",
   "nbconvert_exporter": "python",
   "pygments_lexer": "ipython3",
   "version": "3.10.8"
  }
 },
 "nbformat": 4,
 "nbformat_minor": 5
}
